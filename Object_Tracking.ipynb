{
  "nbformat": 4,
  "nbformat_minor": 0,
  "metadata": {
    "colab": {
      "provenance": []
    },
    "kernelspec": {
      "name": "python3",
      "display_name": "Python 3"
    },
    "language_info": {
      "name": "python"
    }
  },
  "cells": [
    {
      "cell_type": "markdown",
      "source": [
        "1 Implement a Kalman filter to predict and update the state of an object given its measurements"
      ],
      "metadata": {
        "id": "sDEhRuU8ZIrd"
      }
    },
    {
      "cell_type": "code",
      "execution_count": 1,
      "metadata": {
        "colab": {
          "base_uri": "https://localhost:8080/"
        },
        "id": "MAeXM6cZYz9k",
        "outputId": "21bfb8d7-7481-40c3-c67d-02c7430d86e2"
      },
      "outputs": [
        {
          "output_type": "stream",
          "name": "stdout",
          "text": [
            "Predicted Position: 0.95, Velocity: 0.48\n",
            "Predicted Position: 1.93, Velocity: 0.88\n",
            "Predicted Position: 2.96, Velocity: 0.96\n",
            "Predicted Position: 2.97, Velocity: 0.57\n",
            "Predicted Position: 3.52, Velocity: 0.56\n",
            "Predicted Position: 4.04, Velocity: 0.55\n",
            "Predicted Position: 4.78, Velocity: 0.60\n"
          ]
        }
      ],
      "source": [
        "import numpy as np\n",
        "\n",
        "class KalmanFilter1D:\n",
        "    def __init__(self, dt, process_var, meas_var):\n",
        "        \"\"\"\n",
        "        dt: time step\n",
        "        process_var: variance of the process noise (model uncertainty)\n",
        "        meas_var: variance of the measurement noise\n",
        "        \"\"\"\n",
        "        # State vector [position, velocity]\n",
        "        self.x = np.array([[0], [0]])  # Initial state\n",
        "\n",
        "        # State transition matrix\n",
        "        self.F = np.array([[1, dt],\n",
        "                           [0, 1]])\n",
        "\n",
        "        # Control input matrix (none in this example)\n",
        "        self.B = np.array([[0],\n",
        "                           [0]])\n",
        "\n",
        "        # Measurement matrix (we only measure position)\n",
        "        self.H = np.array([[1, 0]])\n",
        "\n",
        "        # Process noise covariance\n",
        "        self.Q = process_var * np.array([[dt**4/4, dt**3/2],\n",
        "                                         [dt**3/2, dt**2]])\n",
        "\n",
        "        # Measurement noise covariance\n",
        "        self.R = np.array([[meas_var]])\n",
        "\n",
        "        # Error covariance matrix (initial uncertainty)\n",
        "        self.P = np.eye(2)\n",
        "\n",
        "    def predict(self):\n",
        "        # Predict state\n",
        "        self.x = self.F @ self.x\n",
        "\n",
        "        # Predict error covariance\n",
        "        self.P = self.F @ self.P @ self.F.T + self.Q\n",
        "\n",
        "    def update(self, z):\n",
        "        \"\"\"\n",
        "        z: measurement (position)\n",
        "        \"\"\"\n",
        "        # Measurement residual\n",
        "        y = z - self.H @ self.x\n",
        "\n",
        "        # Residual covariance\n",
        "        S = self.H @ self.P @ self.H.T + self.R\n",
        "\n",
        "        # Kalman gain\n",
        "        K = self.P @ self.H.T @ np.linalg.inv(S)\n",
        "\n",
        "        # Update state estimate\n",
        "        self.x = self.x + K @ y\n",
        "\n",
        "        # Update error covariance\n",
        "        I = np.eye(self.P.shape[0])\n",
        "        self.P = (I - K @ self.H) @ self.P\n",
        "\n",
        "    def get_state(self):\n",
        "        return self.x.flatten()\n",
        "\n",
        "\n",
        "# Example usage\n",
        "if __name__ == \"__main__\":\n",
        "    dt = 1.0            # 1 second time step\n",
        "    process_var = 1e-4  # small process noise\n",
        "    meas_var = 0.1      # measurement noise variance\n",
        "\n",
        "    kf = KalmanFilter1D(dt, process_var, meas_var)\n",
        "\n",
        "    # Simulated noisy position measurements\n",
        "    measurements = [1.0, 2.0, 3.0, 2.5, 3.5, 4.0, 5.0]\n",
        "\n",
        "    for z in measurements:\n",
        "        kf.predict()\n",
        "        kf.update(np.array([[z]]))\n",
        "        pos, vel = kf.get_state()\n",
        "        print(f\"Predicted Position: {pos:.2f}, Velocity: {vel:.2f}\")"
      ]
    },
    {
      "cell_type": "markdown",
      "source": [
        "2 Write a function to normalize an image array such that pixel values are scaled between 0 and 1C"
      ],
      "metadata": {
        "id": "VUfIzKstZTK6"
      }
    },
    {
      "cell_type": "code",
      "source": [
        "import numpy as np\n",
        "\n",
        "def normalize_image(image):\n",
        "    \"\"\"\n",
        "    Normalize a numpy image array to have pixel values between 0 and 1.\n",
        "\n",
        "    Parameters:\n",
        "        image (np.ndarray): Input image array (can be grayscale or color).\n",
        "\n",
        "    Returns:\n",
        "        np.ndarray: Normalized image array with values in [0, 1].\n",
        "    \"\"\"\n",
        "    image = image.astype(np.float32)  # Convert to float for precision\n",
        "    min_val = np.min(image)\n",
        "    max_val = np.max(image)\n",
        "\n",
        "    # Avoid division by zero if image is constant\n",
        "    if max_val - min_val == 0:\n",
        "        return np.zeros_like(image)\n",
        "\n",
        "    normalized = (image - min_val) / (max_val - min_val)\n",
        "    return normalized"
      ],
      "metadata": {
        "id": "pX0UJqFBZPTt"
      },
      "execution_count": 2,
      "outputs": []
    },
    {
      "cell_type": "code",
      "source": [
        "import cv2\n",
        "\n",
        "img = cv2.imread('your_image.jpg')  # Read image as NumPy array\n",
        "normalized_img = normalize_image(img)\n",
        "print(normalized_img.min(), normalized_img.max())  # Should print 0.0 1.0\n"
      ],
      "metadata": {
        "colab": {
          "base_uri": "https://localhost:8080/",
          "height": 315
        },
        "id": "eEOduIAGZXx6",
        "outputId": "3f0ef880-3da4-4bc1-a0b2-6b2098dc6679"
      },
      "execution_count": 3,
      "outputs": [
        {
          "output_type": "error",
          "ename": "AttributeError",
          "evalue": "'NoneType' object has no attribute 'astype'",
          "traceback": [
            "\u001b[0;31m---------------------------------------------------------------------------\u001b[0m",
            "\u001b[0;31mAttributeError\u001b[0m                            Traceback (most recent call last)",
            "\u001b[0;32m<ipython-input-3-9239b26953b1>\u001b[0m in \u001b[0;36m<cell line: 0>\u001b[0;34m()\u001b[0m\n\u001b[1;32m      2\u001b[0m \u001b[0;34m\u001b[0m\u001b[0m\n\u001b[1;32m      3\u001b[0m \u001b[0mimg\u001b[0m \u001b[0;34m=\u001b[0m \u001b[0mcv2\u001b[0m\u001b[0;34m.\u001b[0m\u001b[0mimread\u001b[0m\u001b[0;34m(\u001b[0m\u001b[0;34m'your_image.jpg'\u001b[0m\u001b[0;34m)\u001b[0m  \u001b[0;31m# Read image as NumPy array\u001b[0m\u001b[0;34m\u001b[0m\u001b[0;34m\u001b[0m\u001b[0m\n\u001b[0;32m----> 4\u001b[0;31m \u001b[0mnormalized_img\u001b[0m \u001b[0;34m=\u001b[0m \u001b[0mnormalize_image\u001b[0m\u001b[0;34m(\u001b[0m\u001b[0mimg\u001b[0m\u001b[0;34m)\u001b[0m\u001b[0;34m\u001b[0m\u001b[0;34m\u001b[0m\u001b[0m\n\u001b[0m\u001b[1;32m      5\u001b[0m \u001b[0mprint\u001b[0m\u001b[0;34m(\u001b[0m\u001b[0mnormalized_img\u001b[0m\u001b[0;34m.\u001b[0m\u001b[0mmin\u001b[0m\u001b[0;34m(\u001b[0m\u001b[0;34m)\u001b[0m\u001b[0;34m,\u001b[0m \u001b[0mnormalized_img\u001b[0m\u001b[0;34m.\u001b[0m\u001b[0mmax\u001b[0m\u001b[0;34m(\u001b[0m\u001b[0;34m)\u001b[0m\u001b[0;34m)\u001b[0m  \u001b[0;31m# Should print 0.0 1.0\u001b[0m\u001b[0;34m\u001b[0m\u001b[0;34m\u001b[0m\u001b[0m\n",
            "\u001b[0;32m<ipython-input-2-be426931c433>\u001b[0m in \u001b[0;36mnormalize_image\u001b[0;34m(image)\u001b[0m\n\u001b[1;32m     11\u001b[0m         \u001b[0mnp\u001b[0m\u001b[0;34m.\u001b[0m\u001b[0mndarray\u001b[0m\u001b[0;34m:\u001b[0m \u001b[0mNormalized\u001b[0m \u001b[0mimage\u001b[0m \u001b[0marray\u001b[0m \u001b[0;32mwith\u001b[0m \u001b[0mvalues\u001b[0m \u001b[0;32min\u001b[0m \u001b[0;34m[\u001b[0m\u001b[0;36m0\u001b[0m\u001b[0;34m,\u001b[0m \u001b[0;36m1\u001b[0m\u001b[0;34m]\u001b[0m\u001b[0;34m.\u001b[0m\u001b[0;34m\u001b[0m\u001b[0;34m\u001b[0m\u001b[0m\n\u001b[1;32m     12\u001b[0m     \"\"\"\n\u001b[0;32m---> 13\u001b[0;31m     \u001b[0mimage\u001b[0m \u001b[0;34m=\u001b[0m \u001b[0mimage\u001b[0m\u001b[0;34m.\u001b[0m\u001b[0mastype\u001b[0m\u001b[0;34m(\u001b[0m\u001b[0mnp\u001b[0m\u001b[0;34m.\u001b[0m\u001b[0mfloat32\u001b[0m\u001b[0;34m)\u001b[0m  \u001b[0;31m# Convert to float for precision\u001b[0m\u001b[0;34m\u001b[0m\u001b[0;34m\u001b[0m\u001b[0m\n\u001b[0m\u001b[1;32m     14\u001b[0m     \u001b[0mmin_val\u001b[0m \u001b[0;34m=\u001b[0m \u001b[0mnp\u001b[0m\u001b[0;34m.\u001b[0m\u001b[0mmin\u001b[0m\u001b[0;34m(\u001b[0m\u001b[0mimage\u001b[0m\u001b[0;34m)\u001b[0m\u001b[0;34m\u001b[0m\u001b[0;34m\u001b[0m\u001b[0m\n\u001b[1;32m     15\u001b[0m     \u001b[0mmax_val\u001b[0m \u001b[0;34m=\u001b[0m \u001b[0mnp\u001b[0m\u001b[0;34m.\u001b[0m\u001b[0mmax\u001b[0m\u001b[0;34m(\u001b[0m\u001b[0mimage\u001b[0m\u001b[0;34m)\u001b[0m\u001b[0;34m\u001b[0m\u001b[0;34m\u001b[0m\u001b[0m\n",
            "\u001b[0;31mAttributeError\u001b[0m: 'NoneType' object has no attribute 'astype'"
          ]
        }
      ]
    },
    {
      "cell_type": "markdown",
      "source": [
        "3 Create a function to generate dummy object detection data with confidence scores and bounding boxes.\n",
        "Filter the detections based on a confidence thresholdC"
      ],
      "metadata": {
        "id": "lk52iu3OZy7h"
      }
    },
    {
      "cell_type": "code",
      "source": [
        "import numpy as np\n",
        "\n",
        "def generate_dummy_detections(num_detections=10):\n",
        "    \"\"\"\n",
        "    Generate dummy object detection data.\n",
        "\n",
        "    Returns:\n",
        "        detections (list of dict): Each dict has 'bbox' and 'confidence'.\n",
        "            bbox format: [x_min, y_min, x_max, y_max]\n",
        "            confidence: float between 0 and 1\n",
        "    \"\"\"\n",
        "    detections = []\n",
        "    for _ in range(num_detections):\n",
        "        x_min = np.random.uniform(0, 400)\n",
        "        y_min = np.random.uniform(0, 400)\n",
        "        width = np.random.uniform(20, 100)\n",
        "        height = np.random.uniform(20, 100)\n",
        "        x_max = x_min + width\n",
        "        y_max = y_min + height\n",
        "        confidence = np.random.uniform(0, 1)\n",
        "        detections.append({\n",
        "            'bbox': [x_min, y_min, x_max, y_max],\n",
        "            'confidence': confidence\n",
        "        })\n",
        "    return detections\n",
        "\n",
        "def filter_detections_by_confidence(detections, threshold=0.5):\n",
        "    \"\"\"\n",
        "    Filter detections based on confidence threshold.\n",
        "\n",
        "    Args:\n",
        "        detections (list of dict): Detections with 'bbox' and 'confidence'\n",
        "        threshold (float): Confidence threshold between 0 and 1\n",
        "\n",
        "    Returns:\n",
        "        filtered_detections (list of dict): Only detections with confidence >= threshold\n",
        "    \"\"\"\n",
        "    return [d for d in detections if d['confidence'] >= threshold]\n",
        "\n",
        "\n",
        "# Example usage\n",
        "if __name__ == \"__main__\":\n",
        "    detections = generate_dummy_detections(15)\n",
        "    print(\"All Detections:\")\n",
        "    for d in detections:\n",
        "        print(f\"bbox: {d['bbox']}, confidence: {d['confidence']:.2f}\")\n",
        "\n",
        "    filtered = filter_detections_by_confidence(detections, threshold=0.6)\n",
        "    print(\"\\nFiltered Detections (conf >= 0.6):\")\n",
        "    for d in filtered:\n",
        "        print(f\"bbox: {d['bbox']}, confidence: {d['confidence']:.2f}\")"
      ],
      "metadata": {
        "colab": {
          "base_uri": "https://localhost:8080/"
        },
        "id": "OBZWwIYpZZeJ",
        "outputId": "d4bb4a90-4a2b-47fa-d009-54b8a9a8b8d9"
      },
      "execution_count": 4,
      "outputs": [
        {
          "output_type": "stream",
          "name": "stdout",
          "text": [
            "All Detections:\n",
            "bbox: [228.81989863039277, 144.00134134937898, 256.948880168382, 174.6094224473559], confidence: 0.86\n",
            "bbox: [336.6666621646263, 258.44525278884373, 374.7715107806456, 291.8616363352743], confidence: 0.25\n",
            "bbox: [40.41169262425828, 333.1516735944229, 69.88358096336853, 410.6254284445246], confidence: 0.84\n",
            "bbox: [151.31082465554923, 334.04170488077705, 183.65904108121794, 373.68787007774154], confidence: 0.93\n",
            "bbox: [370.2999719026903, 110.30342955083596, 405.93787405929316, 138.49587477340359], confidence: 0.02\n",
            "bbox: [150.02835950927098, 192.2501269821117, 224.06940850079127, 269.67376265216336], confidence: 0.71\n",
            "bbox: [258.3191419919244, 5.754111959223485, 323.93015863394885, 97.51778073244888], confidence: 0.10\n",
            "bbox: [291.6545523460877, 18.353015486012936, 336.01922288727906, 96.65804591868078], confidence: 0.34\n",
            "bbox: [181.55530284910478, 309.99371932046984, 280.16758567676175, 357.6055595040455], confidence: 0.55\n",
            "bbox: [393.92869248064204, 121.43909676275601, 450.3684652129328, 209.4704003425095], confidence: 0.16\n",
            "bbox: [310.54846185917194, 360.53470919992765, 365.5228454699049, 406.0075790168392], confidence: 0.29\n",
            "bbox: [87.07572515557823, 254.7992727262854, 165.33851128526746, 324.74003028137764], confidence: 0.37\n",
            "bbox: [291.29710462214774, 225.9553795088439, 363.0468811014631, 267.8296139328075], confidence: 0.01\n",
            "bbox: [87.60251694419648, 1.1376406634472591, 117.22595709329721, 77.11071690990944], confidence: 0.51\n",
            "bbox: [397.46521601929527, 200.3445684450997, 451.20894405512024, 244.33228652259504], confidence: 0.90\n",
            "\n",
            "Filtered Detections (conf >= 0.6):\n",
            "bbox: [228.81989863039277, 144.00134134937898, 256.948880168382, 174.6094224473559], confidence: 0.86\n",
            "bbox: [40.41169262425828, 333.1516735944229, 69.88358096336853, 410.6254284445246], confidence: 0.84\n",
            "bbox: [151.31082465554923, 334.04170488077705, 183.65904108121794, 373.68787007774154], confidence: 0.93\n",
            "bbox: [150.02835950927098, 192.2501269821117, 224.06940850079127, 269.67376265216336], confidence: 0.71\n",
            "bbox: [397.46521601929527, 200.3445684450997, 451.20894405512024, 244.33228652259504], confidence: 0.90\n"
          ]
        }
      ]
    },
    {
      "cell_type": "markdown",
      "source": [
        "4 Write a function that takes a list of YOLO detections and extracts a random 128-dimensional feature vector\n",
        "for each detectionC"
      ],
      "metadata": {
        "id": "5vDvFfTlaAb6"
      }
    },
    {
      "cell_type": "code",
      "source": [
        "import numpy as np\n",
        "\n",
        "def extract_random_features(detections):\n",
        "    \"\"\"\n",
        "    For each detection, generate a random 128-dimensional feature vector.\n",
        "\n",
        "    Args:\n",
        "        detections (list): List of detections (any format, e.g., dicts or lists)\n",
        "\n",
        "    Returns:\n",
        "        features (list of np.ndarray): Each is a 128-dim vector for a detection\n",
        "    \"\"\"\n",
        "    features = []\n",
        "    for _ in detections:\n",
        "        # Generate random vector with values between 0 and 1\n",
        "        feature_vector = np.random.rand(128).astype(np.float32)\n",
        "        features.append(feature_vector)\n",
        "    return features\n",
        "\n",
        "# Example usage\n",
        "if __name__ == \"__main__\":\n",
        "    dummy_detections = [\n",
        "        {'bbox': [100, 150, 200, 250], 'confidence': 0.9, 'class': 'person'},\n",
        "        {'bbox': [300, 350, 400, 450], 'confidence': 0.8, 'class': 'car'},\n",
        "    ]\n",
        "\n",
        "    features = extract_random_features(dummy_detections)\n",
        "    for i, fvec in enumerate(features):\n",
        "        print(f\"Detection {i} feature shape: {fvec.shape}\")\n",
        "        print(fvec[:5])  # print first 5 elements of the feature vector"
      ],
      "metadata": {
        "colab": {
          "base_uri": "https://localhost:8080/"
        },
        "id": "OCDVBJllZ5YS",
        "outputId": "26f4504b-fca7-4f5b-ecd1-9f7de744c80b"
      },
      "execution_count": 5,
      "outputs": [
        {
          "output_type": "stream",
          "name": "stdout",
          "text": [
            "Detection 0 feature shape: (128,)\n",
            "[0.42202422 0.6101005  0.5191031  0.92109203 0.8043286 ]\n",
            "Detection 1 feature shape: (128,)\n",
            "[0.79414254 0.0805231  0.1148926  0.7859115  0.70892394]\n"
          ]
        }
      ]
    },
    {
      "cell_type": "markdown",
      "source": [
        "5  Write a function to re-identify objects by matching feature vectors based on Euclidean distance"
      ],
      "metadata": {
        "id": "AhCjWcOzaH0A"
      }
    },
    {
      "cell_type": "code",
      "source": [
        "import numpy as np\n",
        "\n",
        "def reidentify_objects(features_old, features_new, distance_threshold=0.5):\n",
        "    \"\"\"\n",
        "    Match new features to old features based on Euclidean distance for re-identification.\n",
        "\n",
        "    Args:\n",
        "        features_old (list of np.ndarray): Feature vectors of previously tracked objects\n",
        "        features_new (list of np.ndarray): Feature vectors of current detections\n",
        "        distance_threshold (float): Max distance to consider a match\n",
        "\n",
        "    Returns:\n",
        "        matches (list of tuples): (index_old, index_new) pairs of matched features\n",
        "        unmatched_new (list): indices of new features with no match\n",
        "        unmatched_old (list): indices of old features with no match\n",
        "    \"\"\"\n",
        "    matches = []\n",
        "    unmatched_new = set(range(len(features_new)))\n",
        "    unmatched_old = set(range(len(features_old)))\n",
        "\n",
        "    # Compute distance matrix: rows=old, cols=new\n",
        "    dist_matrix = np.zeros((len(features_old), len(features_new)))\n",
        "    for i, f_old in enumerate(features_old):\n",
        "        for j, f_new in enumerate(features_new):\n",
        "            dist = np.linalg.norm(f_old - f_new)\n",
        "            dist_matrix[i, j] = dist\n",
        "\n",
        "    # Greedy matching based on minimum distance\n",
        "    while True:\n",
        "        if dist_matrix.size == 0:\n",
        "            break\n",
        "\n",
        "        min_idx = np.unravel_index(np.argmin(dist_matrix), dist_matrix.shape)\n",
        "        min_dist = dist_matrix[min_idx]\n",
        "\n",
        "        if min_dist > distance_threshold:\n",
        "            break  # No more matches within threshold\n",
        "\n",
        "        i_old, j_new = min_idx\n",
        "        matches.append((i_old, j_new))\n",
        "\n",
        "        # Remove matched rows and columns by setting large distance\n",
        "        dist_matrix[i_old, :] = np.inf\n",
        "        dist_matrix[:, j_new] = np.inf\n",
        "\n",
        "        unmatched_old.discard(i_old)\n",
        "        unmatched_new.discard(j_new)\n",
        "\n",
        "    return matches, list(unmatched_new), list(unmatched_old)\n",
        "\n",
        "\n",
        "# Example usage\n",
        "if __name__ == \"__main__\":\n",
        "    # Create dummy old and new feature vectors (128D)\n",
        "    features_old = [np.random.rand(128) for _ in range(3)]\n",
        "    features_new = [np.random.rand(128) for _ in range(4)]\n",
        "\n",
        "    matches, unmatched_new, unmatched_old = reidentify_objects(features_old, features_new, distance_threshold=2.0)\n",
        "\n",
        "    print(\"Matches (old_idx -> new_idx):\", matches)\n",
        "    print(\"Unmatched new detections:\", unmatched_new)\n",
        "    print(\"Unmatched old tracks:\", unmatched_old)"
      ],
      "metadata": {
        "colab": {
          "base_uri": "https://localhost:8080/"
        },
        "id": "rRGGtQcAaDsK",
        "outputId": "a745f57d-9069-4d1a-afd7-454918ceb4e2"
      },
      "execution_count": 6,
      "outputs": [
        {
          "output_type": "stream",
          "name": "stdout",
          "text": [
            "Matches (old_idx -> new_idx): []\n",
            "Unmatched new detections: [0, 1, 2, 3]\n",
            "Unmatched old tracks: [0, 1, 2]\n"
          ]
        }
      ]
    },
    {
      "cell_type": "markdown",
      "source": [
        "6 Write a function to track object positions using YOLO detections and a Kalman FilterC"
      ],
      "metadata": {
        "id": "WJWsdTUSaHR4"
      }
    },
    {
      "cell_type": "code",
      "source": [
        "import numpy as np\n",
        "\n",
        "class KalmanFilter2D:\n",
        "    def __init__(self, dt=1.0, process_var=1e-4, meas_var=0.1):\n",
        "        \"\"\"\n",
        "        State: [x, y, vx, vy]^T\n",
        "        \"\"\"\n",
        "        self.dt = dt\n",
        "        self.x = np.zeros((4, 1))  # initial state: position & velocity\n",
        "\n",
        "        # State transition matrix\n",
        "        self.F = np.array([[1, 0, dt, 0],\n",
        "                           [0, 1, 0, dt],\n",
        "                           [0, 0, 1, 0 ],\n",
        "                           [0, 0, 0, 1 ]])\n",
        "\n",
        "        # Measurement matrix (we measure position only)\n",
        "        self.H = np.array([[1, 0, 0, 0],\n",
        "                           [0, 1, 0, 0]])\n",
        "\n",
        "        # Process noise covariance\n",
        "        q = process_var\n",
        "        self.Q = q * np.array([[dt**4/4, 0, dt**3/2, 0],\n",
        "                               [0, dt**4/4, 0, dt**3/2],\n",
        "                               [dt**3/2, 0, dt**2, 0],\n",
        "                               [0, dt**3/2, 0, dt**2]])\n",
        "\n",
        "        # Measurement noise covariance\n",
        "        self.R = meas_var * np.eye(2)\n",
        "\n",
        "        # Initial error covariance\n",
        "        self.P = np.eye(4)\n",
        "\n",
        "    def predict(self):\n",
        "        self.x = self.F @ self.x\n",
        "        self.P = self.F @ self.P @ self.F.T + self.Q\n",
        "\n",
        "    def update(self, z):\n",
        "        \"\"\"\n",
        "        z: measurement vector (2x1) - position [x, y]\n",
        "        \"\"\"\n",
        "        y = z - self.H @ self.x  # measurement residual\n",
        "        S = self.H @ self.P @ self.H.T + self.R  # residual covariance\n",
        "        K = self.P @ self.H.T @ np.linalg.inv(S)  # Kalman gain\n",
        "        self.x = self.x + K @ y\n",
        "        I = np.eye(self.P.shape[0])\n",
        "        self.P = (I - K @ self.H) @ self.P\n",
        "\n",
        "    def get_position(self):\n",
        "        return self.x[:2].flatten()"
      ],
      "metadata": {
        "id": "-e_yHX62aefQ"
      },
      "execution_count": 7,
      "outputs": []
    },
    {
      "cell_type": "code",
      "source": [
        "def track_objects_with_kalman(yolo_detections, kf):\n",
        "    \"\"\"\n",
        "    Args:\n",
        "        yolo_detections (list of dict): each with 'bbox': [x_min, y_min, x_max, y_max]\n",
        "        kf (KalmanFilter2D): Kalman filter instance for tracking one object\n",
        "\n",
        "    Returns:\n",
        "        predicted_pos (np.ndarray): predicted position after update\n",
        "    \"\"\"\n",
        "    # Predict step\n",
        "    kf.predict()\n",
        "\n",
        "    if len(yolo_detections) == 0:\n",
        "        # No detections, return predicted position only\n",
        "        return kf.get_position()\n",
        "\n",
        "    # For simplicity, take first detection's bbox center as measurement\n",
        "    bbox = yolo_detections[0]['bbox']\n",
        "    x_center = (bbox[0] + bbox[2]) / 2\n",
        "    y_center = (bbox[1] + bbox[3]) / 2\n",
        "    measurement = np.array([[x_center], [y_center]])\n",
        "\n",
        "    # Update step with measurement\n",
        "    kf.update(measurement)\n",
        "\n",
        "    return kf.get_position()"
      ],
      "metadata": {
        "id": "qZS3Pv0raktq"
      },
      "execution_count": 8,
      "outputs": []
    },
    {
      "cell_type": "code",
      "source": [
        "if __name__ == \"__main__\":\n",
        "    kf = KalmanFilter2D()\n",
        "\n",
        "    # Simulated YOLO detections for 5 frames\n",
        "    frames_detections = [\n",
        "        [{'bbox': [100, 50, 140, 90]}],\n",
        "        [{'bbox': [102, 52, 142, 92]}],\n",
        "        [{'bbox': [105, 55, 145, 95]}],\n",
        "        [],  # missed detection (e.g., occlusion)\n",
        "        [{'bbox': [110, 60, 150, 100]}],\n",
        "    ]\n",
        "\n",
        "    for i, detections in enumerate(frames_detections):\n",
        "        pos = track_objects_with_kalman(detections, kf)\n",
        "        print(f\"Frame {i+1}: Tracked position: {pos}\")"
      ],
      "metadata": {
        "colab": {
          "base_uri": "https://localhost:8080/"
        },
        "id": "_itQ7foCan4B",
        "outputId": "f71ef902-a8bd-4af3-abca-33251191e204"
      },
      "execution_count": 9,
      "outputs": [
        {
          "output_type": "stream",
          "name": "stdout",
          "text": [
            "Frame 1: Tracked position: [114.28578231  66.66670635]\n",
            "Frame 2: Tracked position: [128.0698046   75.43839107]\n",
            "Frame 3: Tracked position: [130.65980433  78.13136465]\n",
            "Frame 4: Tracked position: [142.18533681  85.76804471]\n",
            "Frame 5: Tracked position: [134.64493269  82.62597054]\n"
          ]
        }
      ]
    },
    {
      "cell_type": "markdown",
      "source": [
        "7 Implement a simple Kalman Filter to track an object's position in a 2D space (simulate the object's\n",
        "movement with random noise)"
      ],
      "metadata": {
        "id": "9yOyLAuRawTc"
      }
    },
    {
      "cell_type": "code",
      "source": [
        "import numpy as np\n",
        "import matplotlib.pyplot as plt\n",
        "\n",
        "class KalmanFilter2D:\n",
        "    def __init__(self, dt=1.0, process_var=1e-4, meas_var=0.1):\n",
        "        # State vector [x, y, vx, vy]\n",
        "        self.dt = dt\n",
        "        self.x = np.zeros((4, 1))  # initial state\n",
        "\n",
        "        # State transition matrix\n",
        "        self.F = np.array([[1, 0, dt, 0],\n",
        "                           [0, 1, 0, dt],\n",
        "                           [0, 0, 1, 0],\n",
        "                           [0, 0, 0, 1]])\n",
        "\n",
        "        # Measurement matrix (we measure position only)\n",
        "        self.H = np.array([[1, 0, 0, 0],\n",
        "                           [0, 1, 0, 0]])\n",
        "\n",
        "        # Process noise covariance\n",
        "        q = process_var\n",
        "        self.Q = q * np.array([[dt**4/4, 0, dt**3/2, 0],\n",
        "                               [0, dt**4/4, 0, dt**3/2],\n",
        "                               [dt**3/2, 0, dt**2, 0],\n",
        "                               [0, dt**3/2, 0, dt**2]])\n",
        "\n",
        "        # Measurement noise covariance\n",
        "        self.R = meas_var * np.eye(2)\n",
        "\n",
        "        # Initial error covariance\n",
        "        self.P = np.eye(4)\n",
        "\n",
        "    def predict(self):\n",
        "        self.x = self.F @ self.x\n",
        "        self.P = self.F @ self.P @ self.F.T + self.Q\n",
        "\n",
        "    def update(self, z):\n",
        "        y = z - self.H @ self.x\n",
        "        S = self.H @ self.P @ self.H.T + self.R\n",
        "        K = self.P @ self.H.T @ np.linalg.inv(S)\n",
        "        self.x = self.x + K @ y\n",
        "        I = np.eye(self.P.shape[0])\n",
        "        self.P = (I - K @ self.H) @ self.P\n",
        "\n",
        "    def get_position(self):\n",
        "        return self.x[:2].flatten()\n",
        "\n",
        "\n",
        "def simulate_object_motion(num_steps=50, dt=1.0):\n",
        "    \"\"\"\n",
        "    Simulate true object movement with constant velocity plus noise,\n",
        "    and generate noisy measurements.\n",
        "    \"\"\"\n",
        "    # True initial state [x, y, vx, vy]\n",
        "    true_state = np.array([[0], [0], [1], [0.5]])\n",
        "\n",
        "    # Matrices same as Kalman Filter's\n",
        "    F = np.array([[1, 0, dt, 0],\n",
        "                  [0, 1, 0, dt],\n",
        "                  [0, 0, 1, 0],\n",
        "                  [0, 0, 0, 1]])\n",
        "\n",
        "    process_noise_std = 0.05\n",
        "    measurement_noise_std = 0.5\n",
        "\n",
        "    true_states = []\n",
        "    measurements = []\n",
        "\n",
        "    state = true_state.copy()\n",
        "\n",
        "    for _ in range(num_steps):"
      ],
      "metadata": {
        "colab": {
          "base_uri": "https://localhost:8080/",
          "height": 106
        },
        "id": "arLPwNFTaqEg",
        "outputId": "ce4d315b-1426-4bbe-b0f4-bf8d34ed4eff"
      },
      "execution_count": 10,
      "outputs": [
        {
          "output_type": "error",
          "ename": "SyntaxError",
          "evalue": "incomplete input (<ipython-input-10-d748bcf03c67>, line 71)",
          "traceback": [
            "\u001b[0;36m  File \u001b[0;32m\"<ipython-input-10-d748bcf03c67>\"\u001b[0;36m, line \u001b[0;32m71\u001b[0m\n\u001b[0;31m    for _ in range(num_steps):\u001b[0m\n\u001b[0m                              ^\u001b[0m\n\u001b[0;31mSyntaxError\u001b[0m\u001b[0;31m:\u001b[0m incomplete input\n"
          ]
        }
      ]
    },
    {
      "cell_type": "code",
      "source": [],
      "metadata": {
        "id": "UFFn5ANIa1NK"
      },
      "execution_count": null,
      "outputs": []
    }
  ]
}